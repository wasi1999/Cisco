{
 "cells": [
  {
   "cell_type": "code",
   "execution_count": 38,
   "metadata": {},
   "outputs": [
    {
     "name": "stdout",
     "output_type": "stream",
     "text": [
      "{'firstName': 'Ahmed', 'lastName': 'Khan', 'age': 20, 'city': 'Karachi'}\n",
      "{'firstName': 'Ahmed', 'lastName': 'Khan', 'age': 20, 'city': 'Karachi', 'Qualification': 'BS in Computer Science'}\n",
      "{'firstName': 'Ahmed', 'lastName': 'Khan', 'age': 20, 'city': 'Karachi'}\n"
     ]
    }
   ],
   "source": [
    "#Task 1\n",
    "person = {\n",
    "    'firstName':'Ahmed',\n",
    "    'lastName' :'Khan',\n",
    "    'age': 20,\n",
    "    'city': 'Karachi',\n",
    "    }\n",
    "print (person)\n",
    "person['Qualification']='BS in Computer Science'\n",
    "print (person)\n",
    "del person['Qualification']\n",
    "print (person)"
   ]
  },
  {
   "cell_type": "code",
   "execution_count": 39,
   "metadata": {},
   "outputs": [
    {
     "name": "stdout",
     "output_type": "stream",
     "text": [
      "Wonder Land is one of my favorite books.\n"
     ]
    }
   ],
   "source": [
    "#Task 4\n",
    "def favorite_book(title):\n",
    "    print(title + \" is one of my favorite books.\")\n",
    "favorite_book('Wonder Land')"
   ]
  },
  {
   "cell_type": "code",
   "execution_count": 1,
   "metadata": {},
   "outputs": [
    {
     "name": "stdout",
     "output_type": "stream",
     "text": [
      "Karachi is in Pakistan.\n",
      "It has a population of about 21345762.\n",
      "The Fifth ranked in the world.\n",
      "Virginia is in America.\n",
      "It has a population of about 6543469.\n",
      "The 14Th  ranked in the world.\n",
      "India is in Dehli.\n",
      "It has a population of about 4532129.\n",
      "The 18Th ranked in the world.\n"
     ]
    }
   ],
   "source": [
    "#Task 2\n",
    "cities = {\n",
    "    'Karachi': {\n",
    "        'country': 'Pakistan',\n",
    "        'population':21345762,\n",
    "        'ranked': 'fifth',\n",
    "        },\n",
    "    'Virginia': {\n",
    "        'country': 'America',\n",
    "        'population': 6543469 ,\n",
    "        'ranked': '14th ',\n",
    "        },\n",
    "    'India': {\n",
    "        'country': 'Dehli',\n",
    "        'population': 4532129 ,\n",
    "        'ranked': '18th',\n",
    "        }\n",
    "    }\n",
    "\n",
    "for city, city_info in cities.items():\n",
    "    country = city_info['country'].title()\n",
    "    population = city_info['population']\n",
    "    ranked = city_info['ranked'].title()\n",
    "\n",
    "    print(city.title() + \" is in \" + country + \".\")\n",
    "    print(\"It has a population of about \" + str(population) + \".\")\n",
    "    print(\"The \" + ranked + \" ranked in the world.\")"
   ]
  },
  {
   "cell_type": "code",
   "execution_count": 3,
   "metadata": {},
   "outputs": [
    {
     "name": "stdout",
     "output_type": "stream",
     "text": [
      "How old are you?\n",
      "Enter 'QUIT' when you are finished.23\n",
      "  Your ticket is $15.\n",
      "How old are you?\n",
      "Enter 'QUIT' when you are finished.43\n",
      "  Your ticket is $15.\n",
      "How old are you?\n",
      "Enter 'QUIT' when you are finished.quit\n",
      "----Ended----\n"
     ]
    }
   ],
   "source": [
    "#Task 3\n",
    "a = \"How old are you?\\nEnter 'QUIT' when you are finished.\"\n",
    "while True:\n",
    "    age = input(a)\n",
    "    if age == 'quit':\n",
    "        break\n",
    "    if int(age) < 3:\n",
    "        print(\"  You get in free!\")\n",
    "    elif int(age) < 13:\n",
    "        print(\"  Your ticket is $10.\")\n",
    "    else:\n",
    "        print(\"  Your ticket is $15.\")\n",
    "print(\"----Ended----\")"
   ]
  },
  {
   "cell_type": "code",
   "execution_count": null,
   "metadata": {},
   "outputs": [],
   "source": []
  }
 ],
 "metadata": {
  "kernelspec": {
   "display_name": "Python 3",
   "language": "python",
   "name": "python3"
  },
  "language_info": {
   "codemirror_mode": {
    "name": "ipython",
    "version": 3
   },
   "file_extension": ".py",
   "mimetype": "text/x-python",
   "name": "python",
   "nbconvert_exporter": "python",
   "pygments_lexer": "ipython3",
   "version": "3.7.3"
  }
 },
 "nbformat": 4,
 "nbformat_minor": 2
}
