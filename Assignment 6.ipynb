{
 "cells": [
  {
   "cell_type": "markdown",
   "metadata": {},
   "source": [
    "### Question No.1:\n"
   ]
  },
  {
   "cell_type": "raw",
   "metadata": {},
   "source": [
    "An “Object” is the key component of Object-oriented programming. An Object may contain data (fields or variables) or code (methods or procedures). The creation of these objects is based on a programmer-defined blue-print also known as a Class."
   ]
  },
  {
   "cell_type": "markdown",
   "metadata": {},
   "source": [
    "### Question No.2:\n",
    " "
   ]
  },
  {
   "cell_type": "raw",
   "metadata": {},
   "source": [
    "1) OOP provides a clear modular structure for programs.\n",
    "2) It is good for defining abstract data types.\n",
    "3) Implementation details are hidden from other modules and other modules has a clearly defined interface.\n",
    "4) It is easy to maintain and modify existing code as new objects can be created with small differences to existing ones.\n",
    "5) Objects, methods, instance, message passing, inheritance are some important properties provided by these particular languages"
   ]
  },
  {
   "cell_type": "markdown",
   "metadata": {},
   "source": [
    "### Question No.3:\n",
    " "
   ]
  },
  {
   "cell_type": "raw",
   "metadata": {},
   "source": [
    "Methods:\n",
    "1)Method is called by its name, but it is associated to an object (dependent).\n",
    "2)A method is implicitly passed the object on which it is invoked.\n",
    "3)It may or may not return any data.\n",
    "4)A method can operate on the data (instance variables) that is contained by the corresponding class\n",
    "\n",
    "Functions:\n",
    "1)Function is block of code that is also called by its name. (independent)\n",
    "2)The function can have different parameters or may not have any at all. If any data (parameters) are passed, they are passed explicitly.\n",
    "3)It may or may not return any data.\n",
    "4)Function does not deal with Class and its instance concept."
   ]
  },
  {
   "cell_type": "markdown",
   "metadata": {},
   "source": [
    "### Question 4:\n",
    " "
   ]
  },
  {
   "cell_type": "raw",
   "metadata": {},
   "source": [
    "Question No.4:\n",
    "Class:\n",
    "A class is a blueprint for creating objects (a particular data structure), providing initial values for state (member variables or attributes), and implementations of behavior (member functions or methods). The user-defined objects are created using the class keyword.\n",
    "\n",
    "Object:\n",
    "Objects are the things you think about first in designing a program and they are also the units of code that are eventually derived from the process.Each object is an instance of a particular class or subclass with the class's own methods or procedures and data variables.\n",
    "\n",
    "Attributes:\n",
    "Attributes are data stored inside a class or instance and represent the state or quality of the class or instance.One can think of attributes as noun or adjective, while methods are the verb of the class.\n",
    "\n",
    "Behaviour:\n",
    "A class's behavior determines how an instance of that class operates; for example, how it will \"react\" if asked to do something by another class or object or if its internal state changes. Behavior is the only way objects can do anything to themselves or have anything done to them.\n",
    "\n",
    "\n"
   ]
  },
  {
   "cell_type": "markdown",
   "metadata": {},
   "source": [
    "### Question 5:\n",
    " "
   ]
  },
  {
   "cell_type": "code",
   "execution_count": 2,
   "metadata": {},
   "outputs": [],
   "source": [
    "class Car():\n",
    "    def __init__(self, make, model, year):  \n",
    "        self.make = make                     \n",
    "        self.model = model\n",
    "        self.year = year\n",
    "        self.odometer_reading = 0\n",
    "    \n",
    "    def read_odometer(self):\n",
    "        current_odometer_reading = self.odometer_reading\n",
    "        return current_odometer_reading\n",
    "    \n",
    "    def get_descriptive_name(self):\n",
    "\n",
    "        long_name = str(self.year) + ' ' + self.make + ' ' + self.model\n",
    "        return long_name.title()\n",
    "\n",
    "    def update_odometer(self, mileage):\n",
    "        self.odometer_reading = mileage\n"
   ]
  },
  {
   "cell_type": "code",
   "execution_count": 3,
   "metadata": {},
   "outputs": [],
   "source": [
    "u1=Car('audi', 'a4', 2016)\n",
    "u2=Car('ferrari','z5',2001)\n",
    "u2=Car('lamborginhi','c21',2009)"
   ]
  },
  {
   "cell_type": "code",
   "execution_count": 5,
   "metadata": {},
   "outputs": [
    {
     "data": {
      "text/plain": [
       "'2016 Audi A4'"
      ]
     },
     "execution_count": 5,
     "metadata": {},
     "output_type": "execute_result"
    }
   ],
   "source": [
    "u1.get_descriptive_name()"
   ]
  },
  {
   "cell_type": "code",
   "execution_count": null,
   "metadata": {},
   "outputs": [],
   "source": []
  }
 ],
 "metadata": {
  "kernelspec": {
   "display_name": "Python 3",
   "language": "python",
   "name": "python3"
  },
  "language_info": {
   "codemirror_mode": {
    "name": "ipython",
    "version": 3
   },
   "file_extension": ".py",
   "mimetype": "text/x-python",
   "name": "python",
   "nbconvert_exporter": "python",
   "pygments_lexer": "ipython3",
   "version": "3.7.3"
  }
 },
 "nbformat": 4,
 "nbformat_minor": 2
}
