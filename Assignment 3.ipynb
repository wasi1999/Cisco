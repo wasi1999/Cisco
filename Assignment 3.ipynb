{
 "cells": [
  {
   "cell_type": "code",
   "execution_count": 6,
   "metadata": {},
   "outputs": [
    {
     "name": "stdout",
     "output_type": "stream",
     "text": [
      "Enter a number:2\n",
      "Enter operator:**\n",
      "Enter a number:3\n",
      "4.0 9.0\n"
     ]
    }
   ],
   "source": [
    "#Task 1\n",
    "\n",
    "a=float(input(\"Enter a number:\"))\n",
    "op=input(\"Enter operator:\")\n",
    "b=float(input(\"Enter a number:\"))\n",
    "if op=='+':\n",
    "    print(a+b)\n",
    "elif op=='-':\n",
    "    print(a-b)\n",
    "elif op=='*':\n",
    "    print(a*b)\n",
    "elif op=='/':\n",
    "    print(a/b)\n",
    "elif op=='**':\n",
    "    print(a**2,b**2)"
   ]
  },
  {
   "cell_type": "code",
   "execution_count": 7,
   "metadata": {},
   "outputs": [
    {
     "name": "stdout",
     "output_type": "stream",
     "text": [
      "850\n"
     ]
    }
   ],
   "source": [
    "#Task 4\n",
    "x={1:200,2:234,2:650}\n",
    "print(sum(x.values()))"
   ]
  },
  {
   "cell_type": "code",
   "execution_count": 10,
   "metadata": {},
   "outputs": [],
   "source": [
    "#Task 3"
   ]
  },
  {
   "cell_type": "code",
   "execution_count": 13,
   "metadata": {},
   "outputs": [
    {
     "data": {
      "text/plain": [
       "{'a': 'Wasi', 'b': 'Bilal', 'c': 'Ali'}"
      ]
     },
     "execution_count": 13,
     "metadata": {},
     "output_type": "execute_result"
    }
   ],
   "source": [
    "y={'a':'Wasi','b':'Bilal'}\n",
    "y.update({'c':'Ali'})\n",
    "y"
   ]
  },
  {
   "cell_type": "code",
   "execution_count": 34,
   "metadata": {},
   "outputs": [
    {
     "name": "stdout",
     "output_type": "stream",
     "text": [
      "Enter a key:7\n",
      "Key does not exist\n"
     ]
    }
   ],
   "source": [
    "#Task 6\n",
    "x= {1: 342, 2: 657, 3: 769, 4: 110}\n",
    "a=int(input(\"Enter a key:\"))\n",
    "if a in x:\n",
    "        print(\"Key exist\")\n",
    "else:\n",
    "        print(\"Key does not exist\")\n"
   ]
  },
  {
   "cell_type": "code",
   "execution_count": null,
   "metadata": {},
   "outputs": [],
   "source": []
  }
 ],
 "metadata": {
  "kernelspec": {
   "display_name": "Python 3",
   "language": "python",
   "name": "python3"
  },
  "language_info": {
   "codemirror_mode": {
    "name": "ipython",
    "version": 3
   },
   "file_extension": ".py",
   "mimetype": "text/x-python",
   "name": "python",
   "nbconvert_exporter": "python",
   "pygments_lexer": "ipython3",
   "version": "3.7.3"
  }
 },
 "nbformat": 4,
 "nbformat_minor": 2
}
